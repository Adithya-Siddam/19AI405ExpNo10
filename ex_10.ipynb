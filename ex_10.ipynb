{
  "nbformat": 4,
  "nbformat_minor": 0,
  "metadata": {
    "colab": {
      "provenance": [],
      "authorship_tag": "ABX9TyN/I+H95bg9uVUlCJ55voTh",
      "include_colab_link": true
    },
    "kernelspec": {
      "name": "python3",
      "display_name": "Python 3"
    },
    "language_info": {
      "name": "python"
    }
  },
  "cells": [
    {
      "cell_type": "markdown",
      "metadata": {
        "id": "view-in-github",
        "colab_type": "text"
      },
      "source": [
        "<a href=\"https://colab.research.google.com/github/Adithya-Siddam/19AI405ExpNo10/blob/main/ex_10.ipynb\" target=\"_parent\"><img src=\"https://colab.research.google.com/assets/colab-badge.svg\" alt=\"Open In Colab\"/></a>"
      ]
    },
    {
      "cell_type": "code",
      "source": [
        "def is_goal_state(current_state, goal_state):\n",
        "    return current_state == goal_state\n",
        "\n",
        "def apply_action(current_state, action_effect):\n",
        "    new_state = current_state.copy()\n",
        "    new_state.update(action_effect)\n",
        "    return new_state\n",
        "\n",
        "def find_plan(initial_state, goal_state, actions):\n",
        "    queue = [(initial_state, [])]\n",
        "    visited_states = set()\n",
        "\n",
        "    while queue:\n",
        "        current_state, partial_plan = queue.pop(0)\n",
        "\n",
        "        if is_goal_state(current_state, goal_state):\n",
        "            return partial_plan\n",
        "\n",
        "        if tuple(current_state.items()) in visited_states:\n",
        "            continue\n",
        "\n",
        "        visited_states.add(tuple(current_state.items()))\n",
        "\n",
        "        for action in actions:\n",
        "            if is_applicable(current_state, actions[action]['precondition']):\n",
        "                next_state = apply_action(current_state, actions[action]['effect'])\n",
        "                queue.append((next_state, partial_plan + [action]))\n",
        "\n",
        "    print(\"No plan exists.\")\n",
        "    return None\n",
        "def is_applicable(current_state, precondition):\n",
        "    return all(current_state.get(key) == value for key, value in precondition.items())\n",
        "# Example usage\n",
        "'''\n",
        "initial_state = {'A': 'Table', 'B': 'Table'}\n",
        "goal_state = {'A': 'B', 'B': 'Table'}\n",
        "\n",
        "actions = {\n",
        "    'move_A_to_B': {'precondition': {'A': 'Table', 'B': 'Table'}, 'effect': {'A': 'B'}},\n",
        "    'move_B_to_Table': {'precondition': {'A': 'Table', 'B': 'B'}, 'effect': {'B': 'Table'}}\n",
        "}\n",
        "\n",
        "plan = find_plan(initial_state, goal_state, actions)\n",
        "print(plan)\n",
        "'''\n",
        "initial_state = {'A': 'Table', 'B': 'Table', 'C': 'Table'}\n",
        "goal_state = {'A': 'B', 'B': 'C', 'C': 'Table'}\n",
        "\n",
        "actions = {\n",
        "    'move_A_to_B': {'precondition': {'A': 'Table', 'B': 'Table'}, 'effect': {'A': 'B'}},\n",
        "    'move_B_to_C': {'precondition': {'A': 'B', 'B': 'Table', 'C': 'Table'}, 'effect': {'B': 'C'}},\n",
        "    'move_C_to_Table': {'precondition': {'A': 'B', 'B': 'C', 'C': 'C'}, 'effect': {'C': 'Table'}}\n",
        "}\n",
        "\n",
        "plan = find_plan(initial_state, goal_state, actions)\n",
        "print(plan)\n",
        "'''\n",
        "initial_state = {'A': 'Table', 'B': 'Table'}\n",
        "goal_state = {'A': 'Table', 'B': 'Table'}\n",
        "\n",
        "actions = {\n",
        "    'move_A_to_B': {'precondition': {'A': 'Table', 'B': 'Table'}, 'effect': {'A': 'B'}}\n",
        "}\n",
        "\n",
        "plan = find_plan(initial_state, goal_state, actions)\n",
        "print(plan)\n",
        "'''"
      ],
      "metadata": {
        "colab": {
          "base_uri": "https://localhost:8080/",
          "height": 70
        },
        "id": "5ghlltM6-VZW",
        "outputId": "be71c051-3295-4bb2-9baa-18804f606ce5"
      },
      "execution_count": 3,
      "outputs": [
        {
          "output_type": "stream",
          "name": "stdout",
          "text": [
            "['move_A_to_B', 'move_B_to_C']\n"
          ]
        },
        {
          "output_type": "execute_result",
          "data": {
            "text/plain": [
              "\"\\ninitial_state = {'A': 'Table', 'B': 'Table'}\\ngoal_state = {'A': 'Table', 'B': 'Table'}\\n\\nactions = {\\n    'move_A_to_B': {'precondition': {'A': 'Table', 'B': 'Table'}, 'effect': {'A': 'B'}}\\n}\\n\\nplan = find_plan(initial_state, goal_state, actions)\\nprint(plan)\\n\""
            ],
            "application/vnd.google.colaboratory.intrinsic+json": {
              "type": "string"
            }
          },
          "metadata": {},
          "execution_count": 3
        }
      ]
    },
    {
      "cell_type": "code",
      "source": [
        "initial_state = {'A': 'Table', 'B': 'Table'}\n",
        "goal_state = {'A': 'B', 'B': 'Table'}\n",
        "\n",
        "actions = {\n",
        "    'move_A_to_B': {'precondition': {'A': 'Table', 'B': 'Table'}, 'effect': {'A': 'B'}},\n",
        "    'move_B_to_Table': {'precondition': {'A': 'Table', 'B': 'B'}, 'effect': {'B': 'Table'}}\n",
        "}\n",
        "\n",
        "plan = find_plan(initial_state, goal_state, actions)\n",
        "print(plan)"
      ],
      "metadata": {
        "colab": {
          "base_uri": "https://localhost:8080/"
        },
        "id": "cGD4Me6W-bdU",
        "outputId": "5051e5a5-db7c-4e9e-eee7-034fefa17586"
      },
      "execution_count": 4,
      "outputs": [
        {
          "output_type": "stream",
          "name": "stdout",
          "text": [
            "['move_A_to_B']\n"
          ]
        }
      ]
    },
    {
      "cell_type": "code",
      "source": [
        "initial_state = {'A': 'Table', 'B': 'Table', 'C': 'Table'}\n",
        "goal_state = {'A': 'B', 'B': 'C', 'C': 'Table'}\n",
        "\n",
        "actions = {\n",
        "    'move_A_to_B': {'precondition': {'A': 'Table', 'B': 'Table'}, 'effect': {'A': 'B'}},\n",
        "    'move_B_to_C': {'precondition': {'A': 'B', 'B': 'Table', 'C': 'Table'}, 'effect': {'B': 'C'}},\n",
        "    'move_C_to_Table': {'precondition': {'A': 'B', 'B': 'C', 'C': 'C'}, 'effect': {'C': 'Table'}}\n",
        "}\n",
        "\n",
        "plan = find_plan(initial_state, goal_state, actions)\n",
        "print(plan)"
      ],
      "metadata": {
        "colab": {
          "base_uri": "https://localhost:8080/"
        },
        "id": "Rp8Nin6Z-iCX",
        "outputId": "0253e1df-bef9-49af-cb84-d59fdf80d1ba"
      },
      "execution_count": 5,
      "outputs": [
        {
          "output_type": "stream",
          "name": "stdout",
          "text": [
            "['move_A_to_B', 'move_B_to_C']\n"
          ]
        }
      ]
    },
    {
      "cell_type": "code",
      "source": [],
      "metadata": {
        "id": "k3IYUtW4-j6i"
      },
      "execution_count": null,
      "outputs": []
    }
  ]
}